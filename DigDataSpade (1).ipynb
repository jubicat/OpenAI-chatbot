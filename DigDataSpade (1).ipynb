{
  "cells": [
    {
      "cell_type": "code",
      "execution_count": null,
      "metadata": {
        "colab": {
          "base_uri": "https://localhost:8080/"
        },
        "id": "YOVKzqUcL1p9",
        "outputId": "e7e7b6c3-36f2-4a07-9a04-269ba044d818"
      },
      "outputs": [],
      "source": [
        "! pip install constants\n",
        "! pip install langchain\n",
        "! pip install sentence_transformers\n",
        "! pip install openai\n",
        "! pip install chromadb\n",
        "! pip install tiktoken"
      ]
    },
    {
      "cell_type": "code",
      "execution_count": 124,
      "metadata": {
        "id": "eKF0XgcBL6q8"
      },
      "outputs": [],
      "source": [
        "import json\n",
        "import openai\n",
        "import requests\n",
        "from tenacity import retry, wait_random_exponential, stop_after_attempt\n",
        "from termcolor import colored\n",
        "import os\n",
        "import constants\n",
        "import time\n",
        "from langchain.document_loaders import TextLoader\n",
        "from langchain.indexes import VectorstoreIndexCreator\n",
        "from langchain.llms import OpenAI\n",
        "from langchain.chat_models import ChatOpenAI\n",
        "from sentence_transformers import SentenceTransformer\n",
        "from sklearn.metrics.pairwise import cosine_similarity\n",
        "\n",
        "os.environ[\"OPENAI_API_KEY\"] = #your key here\n",
        "model = SentenceTransformer('paraphrase-MiniLM-L6-V2')"
      ]
    },
    {
      "cell_type": "code",
      "execution_count": 125,
      "metadata": {
        "id": "tOCfow_mMHNE"
      },
      "outputs": [],
      "source": [
        "def chat_completion_request(messages, functions=None, function_call=None, model=\"gpt-3.5-turbo-0613\"):\n",
        "    headers = {\n",
        "        \"Content-Type\": \"application/json\",\n",
        "        \"Authorization\": \"Bearer \" + openai.api_key,\n",
        "    }\n",
        "    json_data = {\"model\": model, \"messages\": messages}\n",
        "    if functions is not None:\n",
        "        json_data.update({\"functions\": functions})\n",
        "    if function_call is not None:\n",
        "        json_data.update({\"function_call\": function_call})\n",
        "    try:\n",
        "        response = requests.post(\n",
        "            \"https://api.openai.com/v1/chat/completions\",\n",
        "            headers=headers,\n",
        "            json=json_data,\n",
        "        )\n",
        "        return response\n",
        "    except Exception as e:\n",
        "        print(\"Unable to generate ChatCompletion response\")\n",
        "        print(f\"Exception: {e}\")\n",
        "        return e"
      ]
    },
    {
      "cell_type": "code",
      "execution_count": 126,
      "metadata": {
        "id": "jjnmJDezOHi6"
      },
      "outputs": [],
      "source": [
        "sentences = [\n",
        "    \"What's the current price of Bitcoin?\",\n",
        "    \"What's the current volume of Bitcoin?\",\n",
        "    \"Can you tell me the latest Bitcoin price?\",\n",
        "    \"I'm curious, how much does Bitcoin cost right now?\",\n",
        "    \"Do you have the real-time value of Bitcoin?\",\n",
        "    \"What's the price of Bitcoin at this moment?\",\n",
        "    \"Could you provide me with the current value of Bitcoin?\",\n",
        "    \"I'd like to know the present price of Bitcoin, please.\",\n",
        "    \"Can you give me an update on the Bitcoin price?\",\n",
        "    \"What's the going rate for Bitcoin nowadays?\",\n",
        "    \"Is there a way to find out the live price of Bitcoin?\",\n",
        "    \"I'm interested in knowing the current market value of Bitcoin.\",\n",
        "    \"Could you share the current trading price of Bitcoin?\",\n",
        "    \"Can you let me know the price of Bitcoin in the market today?\",\n",
        "    \"How much does one Bitcoin cost at the current time?\",\n",
        "    \"What's the value of Bitcoin right now?\",\n",
        "    \"I'm wondering what the price tag is for Bitcoin these days.\",\n",
        "    \"Can you provide me with the current price of Bitcoin in USD?\",\n",
        "    \"What's the going rate for Bitcoin in the cryptocurrency market?\",\n",
        "    \"I'd like to stay updated on the price fluctuations of Bitcoin. Where can I find the current price?\",\n",
        "    \"Is there a reliable source to get the up-to-date price of Bitcoin?\",\n",
        "    \"What's the price of Bitcoin as of today?\",\n",
        "    \"I'm curious about the current value of Bitcoin. Can you help?\",\n",
        "    \"How much do I need to pay for one Bitcoin right now?\",\n",
        "    \"Can you fetch me the real-time price of Bitcoin?\",\n",
        "    \"What's the market price of Bitcoin at the moment?\",\n",
        "    \"I want to invest in Bitcoin. What's the price I should expect?\",\n",
        "    \"Is the price of Bitcoin going up or down currently?\",\n",
        "    \"Can you provide me with the latest price update for Bitcoin?\",\n",
        "    \"What's the cost of buying Bitcoin today?\",\n",
        "    \"I'm interested in trading Bitcoin. Can you give me the current price?\",\n",
        "    \"How does the current Bitcoin price compare to its all-time high?\",\n",
        "    \"Can you tell me the price of Bitcoin in different currencies?\",\n",
        "    \"What's the average price of Bitcoin over the past 24 hours?\",\n",
        "    \"Is the price of Bitcoin stable or experiencing volatility?\",\n",
        "    \"I'm considering purchasing Bitcoin. What's the best time based on the current price?\",\n",
        "    \"Can you give me the opening and closing prices of Bitcoin for today?\",\n",
        "    \"What factors are influencing the current price of Bitcoin?\",\n",
        "    \"How frequently is the Bitcoin price updated in the market?\",\n",
        "    \"Can you share the historical price chart for Bitcoin over the past month?\",\n",
        "    \"What's the price trend of Bitcoin in the last week?\"\n",
        "]"
      ]
    },
    {
      "cell_type": "code",
      "execution_count": 177,
      "metadata": {
        "id": "oB0deYtDMHsz"
      },
      "outputs": [],
      "source": [
        "def get_live_price(message):\n",
        "  message = message[\"function_call\"][\"arguments\"].split(\"\\\"\")[3]\n",
        "  res = requests.get(f'https://api.coingecko.com/api/v3/simple/price?ids={message.lower()}&vs_currencies=usd')\n",
        "  res = res.json()\n",
        "  res = res[message.lower()][\"usd\"]\n",
        "  return res"
      ]
    },
    {
      "cell_type": "code",
      "execution_count": 128,
      "metadata": {
        "id": "7Ljne6_oNo8G"
      },
      "outputs": [],
      "source": [
        "def get_similarities(query):\n",
        "    sentence_embedding = model.encode(sentences)\n",
        "    prompt_embedding = model.encode(query)\n",
        "    similarities = {}\n",
        "\n",
        "    for i in range(len(sentences)):\n",
        "        similarities[sentences[i]] = cosine_similarity(prompt_embedding.reshape(1, -1), sentence_embedding[i].reshape(1, -1))[0][0]\n",
        "\n",
        "    return similarities\n",
        "\n",
        "def analyzing_query(query):\n",
        "    similarities = get_similarities(query)\n",
        "\n",
        "    if max(similarities.values()) >= 0.75:\n",
        "        answer = (query)\n",
        "    else:\n",
        "        loader = TextLoader('data.txt')\n",
        "        index = VectorstoreIndexCreator().from_loaders([loader])\n",
        "        answer = index.query(query, llm=ChatOpenAI())\n",
        "\n",
        "    return (answer)\n",
        "\n",
        "def get_feature_explanation(message):\n",
        "  message = message[\"function_call\"][\"arguments\"].split(\"\\\"\")[3]\n",
        "  return analyzing_query(message)"
      ]
    },
    {
      "cell_type": "code",
      "execution_count": 129,
      "metadata": {
        "id": "CncAAhNkMKuK"
      },
      "outputs": [],
      "source": [
        "functions = [\n",
        "    {\n",
        "        \"name\": \"get_feature_explanation\",\n",
        "        \"description\": \"Get the explanation of any feature in DigData\",\n",
        "        \"parameters\": {\n",
        "            \"type\": \"object\",\n",
        "            \"properties\": {\n",
        "                \"feature\": {\n",
        "                    \"type\": \"string\",\n",
        "                    \"description\": \"The feature that user wants to know about. For example: price, volume, market cap or circulating supply.\",\n",
        "                },\n",
        "            },\n",
        "            \"required\": [\"feature\"],\n",
        "        },\n",
        "    },\n",
        "    {\n",
        "        \"name\": \"get_live_price\",\n",
        "        \"description\": \"Get the current price of the token\",\n",
        "        \"parameters\": {\n",
        "            \"type\": \"object\",\n",
        "            \"properties\": {\n",
        "                \"cryptocurrency\": {\n",
        "                    \"type\": \"string\",\n",
        "                    \"description\": \"the name of the cryptocurrency\",\n",
        "                },\n",
        "                \"unit\": {\n",
        "                    \"type\": \"string\",\n",
        "                    \"enum\": [\"usd\", \"euro\"],\n",
        "                    \"description\": \"The currency of the price.\",\n",
        "                },\n",
        "            },\n",
        "            \"required\": [\"cryptocurrency\", \"format\"],\n",
        "        },\n",
        "    },\n",
        "]"
      ]
    },
    {
      "cell_type": "code",
      "execution_count": 185,
      "metadata": {
        "colab": {
          "base_uri": "https://localhost:8080/"
        },
        "id": "O3Lm8b4FMLV6",
        "outputId": "58d8c78a-6d00-4d7a-a07d-3e74ed54b9eb"
      },
      "outputs": [
        {
          "name": "stdout",
          "output_type": "stream",
          "text": [
            "Write your message: what is price of solana\n"
          ]
        }
      ],
      "source": [
        "message = input(\"Write your message: \")"
      ]
    },
    {
      "cell_type": "code",
      "execution_count": 186,
      "metadata": {
        "id": "Jfzw4nPEMNKf"
      },
      "outputs": [],
      "source": [
        "messages = []\n",
        "messages.append({\"role\": \"system\", \"content\": \"Don't make assumptions about what values to plug into functions. Ask for clarification if a user request is ambiguous.\"})\n",
        "messages.append({\"role\": \"user\", \"content\": message})\n",
        "chat_response = chat_completion_request(\n",
        "    messages, functions=functions\n",
        ")\n",
        "assistant_message = chat_response.json()[\"choices\"][0][\"message\"]\n",
        "# assistant_message"
      ]
    },
    {
      "cell_type": "code",
      "execution_count": 187,
      "metadata": {
        "colab": {
          "base_uri": "https://localhost:8080/"
        },
        "id": "t6KGMYdDS2OQ",
        "outputId": "03eaec51-5bf8-4f6b-9328-f29dda5ba6b5"
      },
      "outputs": [
        {
          "name": "stdout",
          "output_type": "stream",
          "text": [
            "19.41\n"
          ]
        }
      ],
      "source": [
        "if assistant_message[\"content\"] is not None:\n",
        "    print(assistant_message[\"content\"])\n",
        "else:\n",
        "    funcname = assistant_message[\"function_call\"][\"name\"]\n",
        "    my_function = globals().get(funcname)\n",
        "    if my_function is not None and callable(my_function):\n",
        "        print(my_function(assistant_message))\n",
        "    else:\n",
        "        print(f\"Function '{funcname}' does not exist or is not callable.\")\n"
      ]
    },
    {
      "cell_type": "code",
      "execution_count": 132,
      "metadata": {
        "id": "303MHJzKn7Ui"
      },
      "outputs": [],
      "source": []
    }
  ],
  "metadata": {
    "colab": {
      "provenance": []
    },
    "kernelspec": {
      "display_name": "Python 3",
      "name": "python3"
    },
    "language_info": {
      "name": "python"
    }
  },
  "nbformat": 4,
  "nbformat_minor": 0
}
